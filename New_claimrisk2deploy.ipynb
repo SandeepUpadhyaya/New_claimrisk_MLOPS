{
 "cells": [
  {
   "cell_type": "code",
   "execution_count": 1,
   "metadata": {},
   "outputs": [],
   "source": [
    "# Import built-in modules\n",
    "import sys\n",
    "import platform\n",
    "import os\n",
    "from pathlib import Path\n",
    "import warnings\n",
    "\n",
    "# Import external modules\n",
    "import numpy as np\n",
    "import pandas as pd\n",
    "import seaborn as sns\n",
    "from sklearn.model_selection import train_test_split\n",
    "import matplotlib as mpl\n",
    "import matplotlib.pyplot as plt\n",
    "import IPython.display as ipyd"
   ]
  },
  {
   "cell_type": "code",
   "execution_count": 2,
   "metadata": {},
   "outputs": [],
   "source": [
    "from sklearn.metrics import r2_score\n",
    "from sklearn.metrics import mean_absolute_error\n",
    "from sklearn.metrics import mean_squared_error\n",
    "from sklearn.metrics import mean_absolute_percentage_error\n",
    "from scipy.stats import zscore"
   ]
  },
  {
   "cell_type": "code",
   "execution_count": 3,
   "metadata": {},
   "outputs": [],
   "source": [
    "# importing Libraries\n",
    "from sklearn.linear_model import LogisticRegression\n",
    "from sklearn.neighbors import KNeighborsClassifier\n",
    "from sklearn.svm import SVC\n",
    "from sklearn.tree import DecisionTreeClassifier\n",
    "from sklearn.ensemble import RandomForestClassifier\n",
    "from sklearn.ensemble import BaggingClassifier\n",
    "from sklearn.ensemble import AdaBoostClassifier\n",
    "from sklearn.ensemble import GradientBoostingClassifier\n",
    "from sklearn.metrics import accuracy_score, confusion_matrix, classification_report\n",
    "from sklearn.metrics import classification_report,confusion_matrix,recall_score,f1_score, precision_score"
   ]
  },
  {
   "cell_type": "code",
   "execution_count": 4,
   "metadata": {},
   "outputs": [
    {
     "data": {
      "text/html": [
       "<div>\n",
       "<style scoped>\n",
       "    .dataframe tbody tr th:only-of-type {\n",
       "        vertical-align: middle;\n",
       "    }\n",
       "\n",
       "    .dataframe tbody tr th {\n",
       "        vertical-align: top;\n",
       "    }\n",
       "\n",
       "    .dataframe thead th {\n",
       "        text-align: right;\n",
       "    }\n",
       "</style>\n",
       "<table border=\"1\" class=\"dataframe\">\n",
       "  <thead>\n",
       "    <tr style=\"text-align: right;\">\n",
       "      <th></th>\n",
       "      <th>HAS_CLAIMED_IN_NEXT_12_MONTHS</th>\n",
       "      <th>PREMIUM_CHARGED</th>\n",
       "      <th>NO_CLAIM_DISCOUNT</th>\n",
       "      <th>SPECIAL_DISCOUNT</th>\n",
       "      <th>SUM_INSURED</th>\n",
       "      <th>LOADINGS</th>\n",
       "      <th>FLAG_POLICY_TYPE_OF_COVER_CHANGE_IN_LAST_12_MONTHS</th>\n",
       "      <th>POLICY_HISTORY_AGE</th>\n",
       "      <th>POLICY_TERM</th>\n",
       "      <th>COMPANY_LOADINGS</th>\n",
       "      <th>type_of_cover</th>\n",
       "      <th>transaction_type</th>\n",
       "      <th>client_gender</th>\n",
       "      <th>open_restricted_flag</th>\n",
       "      <th>pa_driver_included</th>\n",
       "      <th>vehicle_condition</th>\n",
       "      <th>flag_vehicle_condition</th>\n",
       "      <th>flag_vehicle_type_on_seating_capacity</th>\n",
       "    </tr>\n",
       "  </thead>\n",
       "  <tbody>\n",
       "    <tr>\n",
       "      <th>59206</th>\n",
       "      <td>0</td>\n",
       "      <td>13979.45519</td>\n",
       "      <td>0.23</td>\n",
       "      <td>0.32</td>\n",
       "      <td>116126.10</td>\n",
       "      <td>0.13</td>\n",
       "      <td>0</td>\n",
       "      <td>1</td>\n",
       "      <td>12</td>\n",
       "      <td>0.35</td>\n",
       "      <td>0</td>\n",
       "      <td>5</td>\n",
       "      <td>0</td>\n",
       "      <td>0</td>\n",
       "      <td>0</td>\n",
       "      <td>2</td>\n",
       "      <td>1</td>\n",
       "      <td>1</td>\n",
       "    </tr>\n",
       "    <tr>\n",
       "      <th>59207</th>\n",
       "      <td>0</td>\n",
       "      <td>13190.29240</td>\n",
       "      <td>0.23</td>\n",
       "      <td>0.32</td>\n",
       "      <td>104513.49</td>\n",
       "      <td>0.13</td>\n",
       "      <td>0</td>\n",
       "      <td>2</td>\n",
       "      <td>12</td>\n",
       "      <td>0.38</td>\n",
       "      <td>0</td>\n",
       "      <td>5</td>\n",
       "      <td>0</td>\n",
       "      <td>0</td>\n",
       "      <td>0</td>\n",
       "      <td>2</td>\n",
       "      <td>1</td>\n",
       "      <td>1</td>\n",
       "    </tr>\n",
       "    <tr>\n",
       "      <th>59208</th>\n",
       "      <td>0</td>\n",
       "      <td>10474.98392</td>\n",
       "      <td>0.24</td>\n",
       "      <td>0.39</td>\n",
       "      <td>126178.00</td>\n",
       "      <td>0.09</td>\n",
       "      <td>0</td>\n",
       "      <td>0</td>\n",
       "      <td>12</td>\n",
       "      <td>0.30</td>\n",
       "      <td>0</td>\n",
       "      <td>2</td>\n",
       "      <td>0</td>\n",
       "      <td>0</td>\n",
       "      <td>1</td>\n",
       "      <td>2</td>\n",
       "      <td>0</td>\n",
       "      <td>0</td>\n",
       "    </tr>\n",
       "    <tr>\n",
       "      <th>59209</th>\n",
       "      <td>0</td>\n",
       "      <td>10716.71432</td>\n",
       "      <td>0.24</td>\n",
       "      <td>0.39</td>\n",
       "      <td>119869.10</td>\n",
       "      <td>0.09</td>\n",
       "      <td>0</td>\n",
       "      <td>1</td>\n",
       "      <td>12</td>\n",
       "      <td>0.35</td>\n",
       "      <td>0</td>\n",
       "      <td>5</td>\n",
       "      <td>0</td>\n",
       "      <td>0</td>\n",
       "      <td>1</td>\n",
       "      <td>2</td>\n",
       "      <td>0</td>\n",
       "      <td>0</td>\n",
       "    </tr>\n",
       "    <tr>\n",
       "      <th>59210</th>\n",
       "      <td>0</td>\n",
       "      <td>10111.73851</td>\n",
       "      <td>0.24</td>\n",
       "      <td>0.39</td>\n",
       "      <td>107882.19</td>\n",
       "      <td>0.09</td>\n",
       "      <td>0</td>\n",
       "      <td>2</td>\n",
       "      <td>12</td>\n",
       "      <td>0.38</td>\n",
       "      <td>0</td>\n",
       "      <td>5</td>\n",
       "      <td>0</td>\n",
       "      <td>0</td>\n",
       "      <td>1</td>\n",
       "      <td>2</td>\n",
       "      <td>1</td>\n",
       "      <td>0</td>\n",
       "    </tr>\n",
       "  </tbody>\n",
       "</table>\n",
       "</div>"
      ],
      "text/plain": [
       "       HAS_CLAIMED_IN_NEXT_12_MONTHS  PREMIUM_CHARGED  NO_CLAIM_DISCOUNT  \\\n",
       "59206                              0      13979.45519               0.23   \n",
       "59207                              0      13190.29240               0.23   \n",
       "59208                              0      10474.98392               0.24   \n",
       "59209                              0      10716.71432               0.24   \n",
       "59210                              0      10111.73851               0.24   \n",
       "\n",
       "       SPECIAL_DISCOUNT  SUM_INSURED  LOADINGS  \\\n",
       "59206              0.32    116126.10      0.13   \n",
       "59207              0.32    104513.49      0.13   \n",
       "59208              0.39    126178.00      0.09   \n",
       "59209              0.39    119869.10      0.09   \n",
       "59210              0.39    107882.19      0.09   \n",
       "\n",
       "       FLAG_POLICY_TYPE_OF_COVER_CHANGE_IN_LAST_12_MONTHS  POLICY_HISTORY_AGE  \\\n",
       "59206                                                  0                    1   \n",
       "59207                                                  0                    2   \n",
       "59208                                                  0                    0   \n",
       "59209                                                  0                    1   \n",
       "59210                                                  0                    2   \n",
       "\n",
       "       POLICY_TERM  COMPANY_LOADINGS  type_of_cover  transaction_type  \\\n",
       "59206           12              0.35              0                 5   \n",
       "59207           12              0.38              0                 5   \n",
       "59208           12              0.30              0                 2   \n",
       "59209           12              0.35              0                 5   \n",
       "59210           12              0.38              0                 5   \n",
       "\n",
       "       client_gender  open_restricted_flag  pa_driver_included  \\\n",
       "59206              0                     0                   0   \n",
       "59207              0                     0                   0   \n",
       "59208              0                     0                   1   \n",
       "59209              0                     0                   1   \n",
       "59210              0                     0                   1   \n",
       "\n",
       "       vehicle_condition  flag_vehicle_condition  \\\n",
       "59206                  2                       1   \n",
       "59207                  2                       1   \n",
       "59208                  2                       0   \n",
       "59209                  2                       0   \n",
       "59210                  2                       1   \n",
       "\n",
       "       flag_vehicle_type_on_seating_capacity  \n",
       "59206                                      1  \n",
       "59207                                      1  \n",
       "59208                                      0  \n",
       "59209                                      0  \n",
       "59210                                      0  "
      ]
     },
     "execution_count": 4,
     "metadata": {},
     "output_type": "execute_result"
    }
   ],
   "source": [
    "df = pd.read_csv('new_with_more_featuresformodelling.csv')\n",
    "df.tail()"
   ]
  },
  {
   "cell_type": "code",
   "execution_count": 5,
   "metadata": {},
   "outputs": [
    {
     "name": "stdout",
     "output_type": "stream",
     "text": [
      "<class 'pandas.core.frame.DataFrame'>\n",
      "RangeIndex: 59211 entries, 0 to 59210\n",
      "Data columns (total 18 columns):\n",
      " #   Column                                              Non-Null Count  Dtype  \n",
      "---  ------                                              --------------  -----  \n",
      " 0   HAS_CLAIMED_IN_NEXT_12_MONTHS                       59211 non-null  int64  \n",
      " 1   PREMIUM_CHARGED                                     59211 non-null  float64\n",
      " 2   NO_CLAIM_DISCOUNT                                   59211 non-null  float64\n",
      " 3   SPECIAL_DISCOUNT                                    59211 non-null  float64\n",
      " 4   SUM_INSURED                                         59211 non-null  float64\n",
      " 5   LOADINGS                                            59211 non-null  float64\n",
      " 6   FLAG_POLICY_TYPE_OF_COVER_CHANGE_IN_LAST_12_MONTHS  59211 non-null  int64  \n",
      " 7   POLICY_HISTORY_AGE                                  59211 non-null  int64  \n",
      " 8   POLICY_TERM                                         59211 non-null  int64  \n",
      " 9   COMPANY_LOADINGS                                    59211 non-null  float64\n",
      " 10  type_of_cover                                       59211 non-null  int64  \n",
      " 11  transaction_type                                    59211 non-null  int64  \n",
      " 12  client_gender                                       59211 non-null  int64  \n",
      " 13  open_restricted_flag                                59211 non-null  int64  \n",
      " 14  pa_driver_included                                  59211 non-null  int64  \n",
      " 15  vehicle_condition                                   59211 non-null  int64  \n",
      " 16  flag_vehicle_condition                              59211 non-null  int64  \n",
      " 17  flag_vehicle_type_on_seating_capacity               59211 non-null  int64  \n",
      "dtypes: float64(6), int64(12)\n",
      "memory usage: 8.1 MB\n"
     ]
    }
   ],
   "source": [
    "df.info()"
   ]
  },
  {
   "cell_type": "code",
   "execution_count": 6,
   "metadata": {},
   "outputs": [],
   "source": [
    "from sklearn.model_selection import train_test_split\n",
    "X = df.drop(['HAS_CLAIMED_IN_NEXT_12_MONTHS'],axis=1)\n",
    "y = df['HAS_CLAIMED_IN_NEXT_12_MONTHS']"
   ]
  },
  {
   "cell_type": "code",
   "execution_count": 7,
   "metadata": {},
   "outputs": [],
   "source": [
    "# Train-Test split\n",
    "X_train,X_test,y_train,y_test = train_test_split(X,y,train_size=0.7,random_state=27)"
   ]
  },
  {
   "cell_type": "code",
   "execution_count": 8,
   "metadata": {},
   "outputs": [],
   "source": [
    "def plot_feature_importances(model):\n",
    "    feature_imp = pd.Series(model.feature_importances_,index=X.columns).sort_values(ascending=False)[:10]\n",
    "    sns.barplot(x=feature_imp, y=feature_imp.index)\n",
    "    plt.title(\"Feature Importance\")\n",
    "    plt.show()\n",
    "    print(f\"Top 10 Feature Importance for {str(model).split('(')[0]}\\n\\n\",feature_imp[:10],sep='')"
   ]
  },
  {
   "cell_type": "code",
   "execution_count": 9,
   "metadata": {},
   "outputs": [
    {
     "name": "stderr",
     "output_type": "stream",
     "text": [
      "c:\\Users\\sandeep.u\\.conda\\envs\\sharathenv\\lib\\site-packages\\ipykernel_launcher.py:1: FutureWarning: MLflow support for Python 3.6 is deprecated and will be dropped in an upcoming release. At that point, existing Python 3.6 workflows that use MLflow will continue to work without modification, but Python 3.6 users will no longer get access to the latest MLflow features and bugfixes. We recommend that you upgrade to Python 3.7 or newer.\n",
      "  \"\"\"Entry point for launching an IPython kernel.\n"
     ]
    }
   ],
   "source": [
    "import mlflow\n",
    "import mlflow.sklearn\n",
    "from urllib.parse import urlparse\n",
    "\n",
    "import logging\n",
    "\n",
    "logging.basicConfig(level=logging.WARN)\n",
    "logger = logging.getLogger(__name__)\n",
    "\n",
    "mlflow.set_tracking_uri(\"http://127.0.0.1:5000/\")"
   ]
  },
  {
   "cell_type": "markdown",
   "metadata": {},
   "source": [
    "Logistics Regression"
   ]
  },
  {
   "cell_type": "code",
   "execution_count": 18,
   "metadata": {},
   "outputs": [
    {
     "name": "stdout",
     "output_type": "stream",
     "text": [
      "Accuracy for Training data: 0.9083648997514898\n",
      "[[16127     1]\n",
      " [ 1636     0]]\n",
      "Model Accuracy: 0.9078473316820536\n",
      "              precision    recall  f1-score   support\n",
      "\n",
      "           0       0.91      1.00      0.95     16128\n",
      "           1       0.00      0.00      0.00      1636\n",
      "\n",
      "    accuracy                           0.91     17764\n",
      "   macro avg       0.45      0.50      0.48     17764\n",
      "weighted avg       0.82      0.91      0.86     17764\n",
      "\n"
     ]
    },
    {
     "name": "stderr",
     "output_type": "stream",
     "text": [
      "Successfully registered model 'Logistic Regression'.\n",
      "2022/08/10 15:47:39 INFO mlflow.tracking._model_registry.client: Waiting up to 300 seconds for model version to finish creation.                     Model name: Logistic Regression, version 1\n",
      "Created version '1' of model 'Logistic Regression'.\n"
     ]
    },
    {
     "data": {
      "image/png": "[encoded data removed]",
      "text/plain": [
       "<Figure size 432x288 with 2 Axes>"
      ]
     },
     "metadata": {
      "needs_background": "light"
     },
     "output_type": "display_data"
    }
   ],
   "source": [
    "# Logistic Regression\n",
    "with mlflow.start_run():\n",
    "    LR = LogisticRegression(random_state=27)\n",
    "    LR = LR.fit(X_train,y_train)\n",
    "    y_pred = LR.predict(X_test)\n",
    "    LR_ac_tr = LR.score(X_train, y_train)\n",
    "    LR_ac_te = LR.score(X_test, y_test)\n",
    "    LR_mac   = accuracy_score(y_test,y_pred)\n",
    "    LR_recall = recall_score(y_test,y_pred, average = 'weighted')\n",
    "    LR_f1_score = f1_score(y_test,y_pred, average = 'weighted')\n",
    "    LR_precision_score = precision_score(y_test,y_pred, average = 'weighted')\n",
    "\n",
    "    print('Accuracy for Training data:',LR_ac_tr)\n",
    "    print(confusion_matrix(y_test,y_pred))\n",
    "    sns.heatmap(confusion_matrix(y_test,y_pred), annot=True)\n",
    "    print('Model Accuracy:',LR_mac )\n",
    "    print(classification_report(y_test,y_pred))\n",
    "\n",
    "    mlflow.log_metric(\"Training accuracy\", LR_ac_tr)\n",
    "    mlflow.log_metric(\"Model accuracy\", LR_mac)\n",
    "    mlflow.log_metric(\"f1_score\", LR_f1_score)\n",
    "\n",
    "    tracking_url_type_store = urlparse(mlflow.get_tracking_uri()).scheme\n",
    "\n",
    "        # Model registry does not work with file store\n",
    "    if tracking_url_type_store != \"file\":\n",
    "        mlflow.sklearn.log_model(LR, \"model\", registered_model_name=\"Logistic Regression\")\n",
    "    else:\n",
    "        mlflow.sklearn.log_model(LR, \"model\")"
   ]
  },
  {
   "cell_type": "code",
   "execution_count": 10,
   "metadata": {},
   "outputs": [
    {
     "name": "stdout",
     "output_type": "stream",
     "text": [
      "Accuracy for Training data: 0.9992520568436799\n",
      "[[16106    22]\n",
      " [ 1392   244]]\n",
      "Model Accuracy: 0.9204008106282369\n",
      "              precision    recall  f1-score   support\n",
      "\n",
      "           0       0.92      1.00      0.96     16128\n",
      "           1       0.92      0.15      0.26      1636\n",
      "\n",
      "    accuracy                           0.92     17764\n",
      "   macro avg       0.92      0.57      0.61     17764\n",
      "weighted avg       0.92      0.92      0.89     17764\n",
      "\n"
     ]
    },
    {
     "name": "stderr",
     "output_type": "stream",
     "text": [
      "Successfully registered model 'Random Forest classifier'.\n",
      "2022/08/10 16:01:48 INFO mlflow.tracking._model_registry.client: Waiting up to 300 seconds for model version to finish creation.                     Model name: Random Forest classifier, version 1\n",
      "Created version '1' of model 'Random Forest classifier'.\n"
     ]
    },
    {
     "data": {
      "image/png": "[encoded data removed]",
      "text/plain": [
       "<Figure size 432x288 with 2 Axes>"
      ]
     },
     "metadata": {
      "needs_background": "light"
     },
     "output_type": "display_data"
    }
   ],
   "source": [
    "# Random Forest classifier\n",
    "with mlflow.start_run():\n",
    "    RF = RandomForestClassifier(random_state=27,n_estimators=50)\n",
    "    RF = RF.fit(X_train,y_train)\n",
    "    y_pred = RF.predict(X_test)\n",
    "    RF_ac_tr = RF.score(X_train, y_train)\n",
    "    RF_ac_te = RF.score(X_test, y_test)\n",
    "    RF_mac   = accuracy_score(y_test,y_pred)\n",
    "    RF_recall = recall_score(y_test,y_pred, average = 'weighted')\n",
    "    RF_f1_score = f1_score(y_test,y_pred, average = 'weighted')\n",
    "    RF_precision_score = precision_score(y_test,y_pred, average = 'weighted')\n",
    "\n",
    "    print('Accuracy for Training data:',RF_ac_tr)\n",
    "    print(confusion_matrix(y_test,y_pred))\n",
    "    sns.heatmap(confusion_matrix(y_test,y_pred), annot=True)\n",
    "    print('Model Accuracy:',RF_mac )\n",
    "    print(classification_report(y_test,y_pred))\n",
    "\n",
    "    mlflow.log_metric(\"Training accuracy\", RF_ac_tr)\n",
    "    mlflow.log_metric(\"Model accuracy\", RF_mac)\n",
    "    mlflow.log_metric(\"f1_score\", RF_f1_score)\n",
    "\n",
    "    tracking_url_type_store = urlparse(mlflow.get_tracking_uri()).scheme\n",
    "\n",
    "        # Model registry does not work with file store\n",
    "    if tracking_url_type_store != \"file\":\n",
    "        mlflow.sklearn.log_model(RF, \"model\", registered_model_name=\"Random Forest classifier\")\n",
    "    else:\n",
    "        mlflow.sklearn.log_model(RF, \"model\")"
   ]
  },
  {
   "cell_type": "code",
   "execution_count": 11,
   "metadata": {},
   "outputs": [
    {
     "name": "stdout",
     "output_type": "stream",
     "text": [
      "Accuracy for Training data: 0.9230824908919826\n",
      "[[16112    16]\n",
      " [ 1394   242]]\n",
      "Model Accuracy: 0.9206259851384824\n",
      "              precision    recall  f1-score   support\n",
      "\n",
      "           0       0.92      1.00      0.96     16128\n",
      "           1       0.94      0.15      0.26      1636\n",
      "\n",
      "    accuracy                           0.92     17764\n",
      "   macro avg       0.93      0.57      0.61     17764\n",
      "weighted avg       0.92      0.92      0.89     17764\n",
      "\n"
     ]
    },
    {
     "name": "stderr",
     "output_type": "stream",
     "text": [
      "Successfully registered model 'ADA Boost classifier'.\n",
      "2022/08/10 16:53:41 INFO mlflow.tracking._model_registry.client: Waiting up to 300 seconds for model version to finish creation.                     Model name: ADA Boost classifier, version 1\n",
      "Created version '1' of model 'ADA Boost classifier'.\n"
     ]
    },
    {
     "data": {
      "image/png": "[encoded data removed]",
      "text/plain": [
       "<Figure size 432x288 with 2 Axes>"
      ]
     },
     "metadata": {
      "needs_background": "light"
     },
     "output_type": "display_data"
    }
   ],
   "source": [
    "# ADA Boost classifier\n",
    "with mlflow.start_run():\n",
    "    AB = AdaBoostClassifier(random_state=27)\n",
    "    AB = AB.fit(X_train,y_train)\n",
    "    y_pred = AB.predict(X_test)\n",
    "    AB_ac_tr = AB.score(X_train, y_train)\n",
    "    AB_ac_te = AB.score(X_test, y_test)\n",
    "    AB_mac   = accuracy_score(y_test,y_pred)\n",
    "    AB_recall = recall_score(y_test,y_pred, average = 'weighted')\n",
    "    AB_f1_score = f1_score(y_test,y_pred, average = 'weighted')\n",
    "    AB_precision_score = precision_score(y_test,y_pred, average = 'weighted')\n",
    "\n",
    "    print('Accuracy for Training data:',AB_ac_tr)\n",
    "    print(confusion_matrix(y_test,y_pred))\n",
    "    sns.heatmap(confusion_matrix(y_test,y_pred), annot=True)\n",
    "    print('Model Accuracy:',AB_mac )\n",
    "    print(classification_report(y_test,y_pred))\n",
    "\n",
    "    mlflow.log_metric(\"Training accuracy\", AB_ac_tr)\n",
    "    mlflow.log_metric(\"Model accuracy\", AB_mac)\n",
    "    mlflow.log_metric(\"f1_score\", AB_f1_score)\n",
    "\n",
    "    tracking_url_type_store = urlparse(mlflow.get_tracking_uri()).scheme\n",
    "\n",
    "        # Model registry does not work with file store\n",
    "    if tracking_url_type_store != \"file\":\n",
    "        mlflow.sklearn.log_model(AB, \"model\", registered_model_name=\"ADA Boost classifier\")\n",
    "    else:\n",
    "        mlflow.sklearn.log_model(AB, \"model\")"
   ]
  },
  {
   "cell_type": "code",
   "execution_count": 12,
   "metadata": {},
   "outputs": [
    {
     "name": "stdout",
     "output_type": "stream",
     "text": [
      "Accuracy for Training data: 0.9239993244384395\n",
      "[[16128     0]\n",
      " [ 1391   245]]\n",
      "Model Accuracy: 0.9216955640621481\n",
      "              precision    recall  f1-score   support\n",
      "\n",
      "           0       0.92      1.00      0.96     16128\n",
      "           1       1.00      0.15      0.26      1636\n",
      "\n",
      "    accuracy                           0.92     17764\n",
      "   macro avg       0.96      0.57      0.61     17764\n",
      "weighted avg       0.93      0.92      0.89     17764\n",
      "\n"
     ]
    },
    {
     "name": "stderr",
     "output_type": "stream",
     "text": [
      "Successfully registered model 'Gradient Boost classifier'.\n",
      "2022/08/10 17:00:10 INFO mlflow.tracking._model_registry.client: Waiting up to 300 seconds for model version to finish creation.                     Model name: Gradient Boost classifier, version 1\n",
      "Created version '1' of model 'Gradient Boost classifier'.\n"
     ]
    },
    {
     "data": {
      "image/png": "[encoded data removed]",
      "text/plain": [
       "<Figure size 432x288 with 2 Axes>"
      ]
     },
     "metadata": {
      "needs_background": "light"
     },
     "output_type": "display_data"
    }
   ],
   "source": [
    "# Gradient Boost classifier\n",
    "with mlflow.start_run():\n",
    "    GB = GradientBoostingClassifier(random_state=27)\n",
    "    GB =  GB.fit(X_train,y_train)\n",
    "    y_pred =  GB.predict(X_test)\n",
    "    GB_ac_tr = GB.score(X_train, y_train)\n",
    "    GB_ac_te = GB.score(X_test, y_test)\n",
    "    GB_mac   = accuracy_score(y_test,y_pred)\n",
    "    GB_recall = recall_score(y_test,y_pred, average = 'weighted')\n",
    "    GB_f1_score = f1_score(y_test,y_pred, average = 'weighted')\n",
    "    GB_precision_score = precision_score(y_test,y_pred, average = 'weighted')\n",
    "\n",
    "    print('Accuracy for Training data:',GB_ac_tr)\n",
    "    print(confusion_matrix(y_test,y_pred))\n",
    "    sns.heatmap(confusion_matrix(y_test,y_pred), annot=True)\n",
    "    print('Model Accuracy:',GB_mac )\n",
    "    print(classification_report(y_test,y_pred))\n",
    "\n",
    "    mlflow.log_metric(\"Training accuracy\", GB_ac_tr)\n",
    "    mlflow.log_metric(\"Model accuracy\", GB_mac)\n",
    "    mlflow.log_metric(\"f1_score\", GB_f1_score)\n",
    "\n",
    "    tracking_url_type_store = urlparse(mlflow.get_tracking_uri()).scheme\n",
    "\n",
    "        # Model registry does not work with file store\n",
    "    if tracking_url_type_store != \"file\":\n",
    "        mlflow.sklearn.log_model(GB, \"model\", registered_model_name=\"Gradient Boost classifier\")\n",
    "    else:\n",
    "        mlflow.sklearn.log_model(GB, \"model\")"
   ]
  },
  {
   "cell_type": "code",
   "execution_count": null,
   "metadata": {},
   "outputs": [],
   "source": [
    "# XG Boost classifier\n",
    "from xgboost import XGBClassifier\n",
    "with mlflow.start_run():\n",
    "    XG = XGBClassifier(random_state=27)\n",
    "    XG =  XG.fit(X_train,y_train)\n",
    "    y_pred =  XG.predict(X_test)\n",
    "    XG_ac_tr = XG.score(X_train, y_train)\n",
    "    XG_ac_te = XG.score(X_test, y_test)\n",
    "    XG_mac   = accuracy_score(y_test,y_pred)\n",
    "    XG_recall = recall_score(y_test,y_pred, average = 'weighted')\n",
    "    XG_f1_score = f1_score(y_test,y_pred, average = 'weighted')\n",
    "    XG_precision_score = precision_score(y_test,y_pred, average = 'weighted')\n",
    "\n",
    "    print('Accuracy for Training data:',XG_ac_tr)\n",
    "    print(confusion_matrix(y_test,y_pred))\n",
    "    sns.heatmap(confusion_matrix(y_test,y_pred), annot=True)\n",
    "    print('Model Accuracy:',XG_mac )\n",
    "    print(classification_report(y_test,y_pred))\n",
    "\n",
    "    mlflow.log_metric(\"Training accuracy\", XG_ac_tr)\n",
    "    mlflow.log_metric(\"Model accuracy\", XG_mac)\n",
    "    mlflow.log_metric(\"f1_score\", XG_f1_score)\n",
    "\n",
    "    tracking_url_type_store = urlparse(mlflow.get_tracking_uri()).scheme\n",
    "\n",
    "        # Model registry does not work with file store\n",
    "    if tracking_url_type_store != \"file\":\n",
    "        mlflow.sklearn.log_model(XG, \"model\", registered_model_name=\"XG Boost classifier\")\n",
    "    else:\n",
    "        mlflow.sklearn.log_model(XG, \"model\")"
   ]
  },
  {
   "cell_type": "code",
   "execution_count": null,
   "metadata": {},
   "outputs": [],
   "source": []
  },
  {
   "cell_type": "code",
   "execution_count": null,
   "metadata": {},
   "outputs": [],
   "source": []
  },
  {
   "cell_type": "code",
   "execution_count": null,
   "metadata": {},
   "outputs": [],
   "source": []
  },
  {
   "cell_type": "code",
   "execution_count": null,
   "metadata": {},
   "outputs": [],
   "source": []
  },
  {
   "cell_type": "code",
   "execution_count": null,
   "metadata": {},
   "outputs": [],
   "source": []
  },
  {
   "cell_type": "code",
   "execution_count": null,
   "metadata": {},
   "outputs": [],
   "source": []
  },
  {
   "cell_type": "code",
   "execution_count": null,
   "metadata": {},
   "outputs": [],
   "source": []
  },
  {
   "cell_type": "code",
   "execution_count": null,
   "metadata": {},
   "outputs": [],
   "source": []
  },
  {
   "cell_type": "code",
   "execution_count": null,
   "metadata": {},
   "outputs": [],
   "source": []
  },
  {
   "cell_type": "code",
   "execution_count": null,
   "metadata": {},
   "outputs": [],
   "source": []
  },
  {
   "cell_type": "code",
   "execution_count": null,
   "metadata": {},
   "outputs": [],
   "source": []
  },
  {
   "cell_type": "code",
   "execution_count": null,
   "metadata": {},
   "outputs": [],
   "source": []
  },
  {
   "cell_type": "code",
   "execution_count": null,
   "metadata": {},
   "outputs": [],
   "source": []
  }
 ],
 "metadata": {
  "kernelspec": {
   "display_name": "Python 3.6.13 ('sharathenv')",
   "language": "python",
   "name": "python3"
  },
  "language_info": {
   "codemirror_mode": {
    "name": "ipython",
    "version": 3
   },
   "file_extension": ".py",
   "mimetype": "text/x-python",
   "name": "python",
   "nbconvert_exporter": "python",
   "pygments_lexer": "ipython3",
   "version": "3.6.13"
  },
  "orig_nbformat": 4,
  "vscode": {
   "interpreter": {
    "hash": "2bdc5f13a5217d2a53736e40b24e250d21116cad4bad1458b4dbc558edf26bd5"
   }
  }
 },
 "nbformat": 4,
 "nbformat_minor": 2
}
